{
 "cells": [
  {
   "cell_type": "code",
   "execution_count": 1,
   "metadata": {},
   "outputs": [],
   "source": [
    "from grid import Grid\n",
    "from utils import *\n",
    "from similarity import *\n",
    "import matplotlib.pylab as plt"
   ]
  },
  {
   "cell_type": "code",
   "execution_count": 2,
   "metadata": {},
   "outputs": [],
   "source": [
    "X = [2, 3, 5, 6, 8, 2, 3, 1, 5, 7, 3, 1, 10, 5]\n",
    "Y = [3, 5, 6, 7, 2, 1, 5, 6, 8, 6, 4, 2, 1]\n",
    "\n",
    "X = feature_scaling(X)\n",
    "Y = feature_scaling(Y)"
   ]
  },
  {
   "cell_type": "code",
   "execution_count": 3,
   "metadata": {},
   "outputs": [
    {
     "name": "stdout",
     "output_type": "stream",
     "text": [
      "normalized X: [0.1111111111111111, 0.2222222222222222, 0.4444444444444444, 0.5555555555555556, 0.7777777777777778, 0.1111111111111111, 0.2222222222222222, 0.0, 0.4444444444444444, 0.6666666666666666, 0.2222222222222222, 0.0, 1.0, 0.4444444444444444]\n"
     ]
    }
   ],
   "source": [
    "print('normalized X:', X)"
   ]
  },
  {
   "cell_type": "code",
   "execution_count": 4,
   "metadata": {},
   "outputs": [
    {
     "name": "stdout",
     "output_type": "stream",
     "text": [
      "normalized Y: [0.2857142857142857, 0.5714285714285714, 0.7142857142857143, 0.8571428571428571, 0.14285714285714285, 0.0, 0.5714285714285714, 0.7142857142857143, 1.0, 0.7142857142857143, 0.42857142857142855, 0.14285714285714285, 0.0]\n"
     ]
    }
   ],
   "source": [
    "print('normalized Y:', Y)"
   ]
  },
  {
   "cell_type": "code",
   "execution_count": 5,
   "metadata": {},
   "outputs": [],
   "source": [
    "# create grid with 5rows and 7columns\n",
    "g = Grid(5, 7)"
   ]
  },
  {
   "cell_type": "code",
   "execution_count": 6,
   "metadata": {},
   "outputs": [],
   "source": [
    "# transpose time series to grid-matrix\n",
    "x_matrix = g.ts2Matrix(X)\n",
    "y_matrix = g.ts2Matrix(Y)"
   ]
  },
  {
   "cell_type": "code",
   "execution_count": 7,
   "metadata": {},
   "outputs": [
    {
     "name": "stdout",
     "output_type": "stream",
     "text": [
      "X matrix representation:\n",
      "[0. 0. 0. 0. 0. 0. 1.]\n",
      "[0. 0. 1. 0. 1. 0. 0.]\n",
      "[0. 2. 0. 0. 1. 0. 1.]\n",
      "[1. 0. 0. 1. 0. 1. 0.]\n",
      "[1. 0. 1. 1. 0. 1. 0.]\n"
     ]
    }
   ],
   "source": [
    "print('X matrix representation:')\n",
    "for x in x_matrix:\n",
    "    print(x)"
   ]
  },
  {
   "cell_type": "code",
   "execution_count": 8,
   "metadata": {},
   "outputs": [
    {
     "name": "stdout",
     "output_type": "stream",
     "text": [
      "Y matrix representation:\n",
      "[0. 0. 1. 0. 1. 0. 0.]\n",
      "[0. 1. 0. 0. 1. 1. 0.]\n",
      "[0. 1. 0. 1. 0. 1. 0.]\n",
      "[1. 0. 0. 0. 0. 0. 0.]\n",
      "[0. 0. 1. 1. 0. 0. 2.]\n"
     ]
    }
   ],
   "source": [
    "print('Y matrix representation:')\n",
    "for y in y_matrix:\n",
    "    print(y)"
   ]
  },
  {
   "cell_type": "code",
   "execution_count": 9,
   "metadata": {},
   "outputs": [
    {
     "name": "stdout",
     "output_type": "stream",
     "text": [
      "GMED(X, Y) : 4.358898943540674\n"
     ]
    }
   ],
   "source": [
    "print('GMED(X, Y) :', GMED(x_matrix, y_matrix))"
   ]
  },
  {
   "cell_type": "code",
   "execution_count": 10,
   "metadata": {},
   "outputs": [
    {
     "name": "stdout",
     "output_type": "stream",
     "text": [
      "GMDTW(X, Y) : 8.742018482667122\n"
     ]
    }
   ],
   "source": [
    "print('GMDTW(X, Y) :', GMDTW(x_matrix, y_matrix))"
   ]
  },
  {
   "cell_type": "code",
   "execution_count": 11,
   "metadata": {},
   "outputs": [
    {
     "data": {
      "image/png": "[encoded data removed]",
      "text/plain": [
       "<matplotlib.figure.Figure at 0x212e2255be0>"
      ]
     },
     "metadata": {},
     "output_type": "display_data"
    }
   ],
   "source": [
    "# visualize time series representation sample\n",
    "fig = plt.figure()\n",
    "ax1 = fig.add_subplot(1, 1, 1)\n",
    "ax1.imshow(x_matrix, interpolation='nearest', cmap='gray', aspect='auto')\n",
    "plt.show()"
   ]
  },
  {
   "cell_type": "code",
   "execution_count": null,
   "metadata": {},
   "outputs": [],
   "source": []
  }
 ],
 "metadata": {
  "kernelspec": {
   "display_name": "Python 3",
   "language": "python",
   "name": "python3"
  },
  "language_info": {
   "codemirror_mode": {
    "name": "ipython",
    "version": 3
   },
   "file_extension": ".py",
   "mimetype": "text/x-python",
   "name": "python",
   "nbconvert_exporter": "python",
   "pygments_lexer": "ipython3",
   "version": "3.6.4"
  }
 },
 "nbformat": 4,
 "nbformat_minor": 1
}
